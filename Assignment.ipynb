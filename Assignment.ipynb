{
 "cells": [
  {
   "cell_type": "markdown",
   "metadata": {},
   "source": [
    "<center>\n",
    "    <img src=\"https://cf-courses-data.s3.us.cloud-object-storage.appdomain.cloud/IBMDeveloperSkillsNetwork-DS0105EN-SkillsNetwork/labs/Module2/images/SN_web_lightmode.png\" width=\"300\" alt=\"cognitiveclass.ai logo\">\n",
    "</center>\n"
   ]
  },
  {
   "cell_type": "markdown",
   "metadata": {},
   "source": [
    "#### Add your code below following the instructions given in the course\n"
   ]
  },
  {
   "cell_type": "markdown",
   "metadata": {},
   "source": [
    "# Assignment"
   ]
  },
  {
   "cell_type": "markdown",
   "metadata": {},
   "source": [
    "# Tools for Data Science "
   ]
  },
  {
   "cell_type": "markdown",
   "metadata": {},
   "source": [
    "#  Introduction\n",
    "There are many tools available for data science, ranging from programming languages like Python and R, to specialized libraries like NumPy and Pandas for numerical computing and data manipulation. Other popular tools for data science include visualization tools like Matplotlib and data mining libraries like Scikit-learn. With so many powerful tools available, data scientists have a wide variety of options to choose from when working with data.\n"
   ]
  },
  {
   "cell_type": "markdown",
   "metadata": {},
   "source": [
    "# Data Science Languages\n",
    "Here are some of the most popular programming languages used in data science:\n",
    "\n",
    "-R\n",
    "\n",
    "-MATLAB\n",
    "\n",
    "-Python\n",
    "\n",
    "-Java\n",
    "\n",
    "-Scala\n",
    "\n",
    "Python and R are two of the most commonly used languages for data science due to their versatility and extensive libraries for data analysis, visualization, and machine learning. SQL is also widely used for working with databases and managing large datasets. Java, MATLAB, and Scala are less commonly used but still have applications in data science, particularly for big data and distributed computing.\n"
   ]
  },
  {
   "cell_type": "markdown",
   "metadata": {},
   "source": [
    "#  Popular Data Science Libraries\n",
    "\n",
    "Here are some of the most popular data science libraries for Python:\n",
    "\n",
    "- NumPy: A library for numerical computing with Python.\n",
    "\n",
    "- Pandas: A library for data manipulation and analysis.\n",
    "\n",
    "- Matplotlib: A library for creating static, animated, and interactive visualizations.\n",
    "\n",
    "- Scikit-learn: A library for machine learning and data mining.\n",
    "\n",
    "- TensorFlow: A library for machine learning and deep learning.\n",
    "\n",
    "- PyTorch: A library for machine learning and deep learning."
   ]
  },
  {
   "cell_type": "markdown",
   "metadata": {},
   "source": [
    "# Data Science Tools\n",
    "\n",
    "| Tool                 | Description                                                         |\n",
    "|----------------------|---------------------------------------------------------------------|\n",
    "| Python               | A popular programming language used for data science and analytics. |\n",
    "| R                    | A programming language and environment for statistical computing.   |\n",
    "| SQL                  | A language used for managing and querying relational databases.      |\n",
    "| NumPy                | A library for numerical computing with Python.                      |\n",
    "| Pandas               | A library for data manipulation and analysis with Python.           |\n",
    "| Matplotlib           | A library for creating static, animated, and interactive plots.     |\n",
    "| Scikit-learn         | A library for machine learning and data mining with Python.         |\n",
    "| TensorFlow          | A library for machine learning and deep learning with Python.       |\n",
    "| PyTorch             | A library for machine learning and deep learning with Python.       |"
   ]
  },
  {
   "cell_type": "markdown",
   "metadata": {},
   "source": [
    "# Arithmetic Expression Examples\n",
    "\n",
    "Arithmetic expressions are used to perform mathematical operations in programming. In Python, we can use arithmetic operators to perform operations like addition, subtraction, multiplication, division, and more.\n",
    "\n",
    "Here are some examples of arithmetic expressions in Python:\n",
    "\n",
    "Expression   |   Result\n",
    "\n",
    "2 + 3  = 5\n",
    "\n",
    "10 - 3 = 7          \n",
    "\n",
    "2 * 4  = 8\n",
    "\n",
    "10 / 2 = 5\n",
    "\n",
    "3 ** 2 = 9          \n",
    "\n",
    "17 % 5 = 2          "
   ]
  },
  {
   "cell_type": "code",
   "execution_count": 10,
   "metadata": {},
   "outputs": [
    {
     "name": "stdout",
     "output_type": "stream",
     "text": [
      "10\n",
      "13\n"
     ]
    }
   ],
   "source": [
    "# Multiplication Example\n",
    "x = 5\n",
    "y = 2\n",
    "z = x * y\n",
    "print(z)\n",
    "\n",
    "# Addition Example\n",
    "a = 10\n",
    "b = 3\n",
    "c = a + b\n",
    "print(c)"
   ]
  },
  {
   "cell_type": "code",
   "execution_count": 11,
   "metadata": {},
   "outputs": [
    {
     "name": "stdout",
     "output_type": "stream",
     "text": [
      "120 minutes is equal to 2.0 hours\n"
     ]
    }
   ],
   "source": [
    "# Convert Minutes to Hours\n",
    "minutes = 120\n",
    "hours = minutes / 60\n",
    "print(\"120 minutes is equal to\", hours, \"hours\")"
   ]
  },
  {
   "cell_type": "markdown",
   "metadata": {},
   "source": [
    "# Objectives\n",
    "\n",
    "The objectives of this notebook are to:\n",
    "\n",
    "- Introduce basic arithmetic expressions in Python\n",
    "- Demonstrate how to perform multiplication and addition in Python\n",
    "- Convert minutes to hours using Python\n",
    "- Explore the use of arithmetic expressions in data science applications\n",
    "- Provide a foundation for learning more complex data science tools and techniques"
   ]
  },
  {
   "cell_type": "markdown",
   "metadata": {},
   "source": [
    "# Author\n",
    "\n",
    "This notebook was created by Syed Nouman Shah."
   ]
  },
  {
   "cell_type": "code",
   "execution_count": null,
   "metadata": {},
   "outputs": [],
   "source": []
  }
 ],
 "metadata": {
  "kernelspec": {
   "display_name": "Python",
   "language": "python",
   "name": "conda-env-python-py"
  },
  "language_info": {
   "codemirror_mode": {
    "name": "ipython",
    "version": 3
   },
   "file_extension": ".py",
   "mimetype": "text/x-python",
   "name": "python",
   "nbconvert_exporter": "python",
   "pygments_lexer": "ipython3",
   "version": "3.7.12"
  }
 },
 "nbformat": 4,
 "nbformat_minor": 4
}
